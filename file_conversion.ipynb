{
 "cells": [
  {
   "cell_type": "code",
   "execution_count": 5,
   "id": "07cba541-54ad-4e9b-a55a-6fc15b713db1",
   "metadata": {},
   "outputs": [],
   "source": [
    "import fitz  # PyMuPDF\n",
    "\n",
    "def extract_images_from_pdf(pdf_path):\n",
    "    doc = fitz.open(pdf_path)\n",
    "    images = []\n",
    "    for page_num in range(len(doc)):\n",
    "        page = doc.load_page(page_num)\n",
    "        for img in page.get_images(full=True):\n",
    "            xref = img[0]\n",
    "            base_image = doc.extract_image(xref)\n",
    "            image_bytes = base_image[\"image\"]\n",
    "            images.append(image_bytes)\n",
    "    return images\n",
    "\n",
    "# Example usage\n",
    "pdf_path = r\"C:\\Users\\EstifanosT\\Awash Bank RAG Project\\ONPS-04-2021.pdf\"  # Using raw string to handle backslashes\n",
    "images = extract_images_from_pdf(pdf_path)"
   ]
  },
  {
   "cell_type": "code",
   "execution_count": 6,
   "id": "28c1c6e6-94ac-4b36-a394-0660246718f4",
   "metadata": {},
   "outputs": [],
   "source": [
    "from PIL import Image\n",
    "import pytesseract\n",
    "import io\n",
    "\n",
    "def ocr_images(images):\n",
    "    extracted_texts = []\n",
    "    for image_bytes in images:\n",
    "        image = Image.open(io.BytesIO(image_bytes))\n",
    "        text = pytesseract.image_to_string(image)\n",
    "        extracted_texts.append(text)\n",
    "    return extracted_texts\n"
   ]
  },
  {
   "cell_type": "code",
   "execution_count": 9,
   "id": "abaf97fe-0beb-4654-a11b-0898dfca0150",
   "metadata": {},
   "outputs": [],
   "source": [
    "import json\n",
    "\n",
    "def text_to_json(texts):\n",
    "    data = {\n",
    "        \"pages\": []\n",
    "    }\n",
    "    for i, text in enumerate(texts):\n",
    "        page_data = {\n",
    "            \"page_number\": i + 1,\n",
    "            \"content\": text\n",
    "        }\n",
    "        data[\"pages\"].append(page_data)\n",
    "    return data\n"
   ]
  },
  {
   "cell_type": "code",
   "execution_count": 12,
   "id": "4d2dad78-ff40-4530-bab2-869c93d30498",
   "metadata": {},
   "outputs": [],
   "source": [
    "import pytesseract\n",
    "\n",
    "# Update the Tesseract executable path if necessary\n",
    "pytesseract.pytesseract.tesseract_cmd = r\"C:\\Program Files\\Tesseract-OCR\\tesseract.exe\"\n",
    "def save_json(data, json_path):\n",
    "    with open(json_path, 'w', encoding='utf-8') as f:\n",
    "        json.dump(data, f, ensure_ascii=False, indent=4)\n",
    "\n",
    "# Example usage\n",
    "pdf_path = r\"C:\\Users\\EstifanosT\\Awash Bank RAG Project\\ONPS-04-2021.pdf\"\n",
    "json_path = \"output.json\"\n",
    "\n",
    "images = extract_images_from_pdf(pdf_path)\n",
    "texts = ocr_images(images)\n",
    "data = text_to_json(texts)\n",
    "save_json(data, json_path)\n"
   ]
  },
  {
   "cell_type": "code",
   "execution_count": null,
   "id": "97b8cec2-3686-42f1-b5ee-044f342df566",
   "metadata": {},
   "outputs": [],
   "source": []
  }
 ],
 "metadata": {
  "kernelspec": {
   "display_name": "Python 3 (ipykernel)",
   "language": "python",
   "name": "python3"
  },
  "language_info": {
   "codemirror_mode": {
    "name": "ipython",
    "version": 3
   },
   "file_extension": ".py",
   "mimetype": "text/x-python",
   "name": "python",
   "nbconvert_exporter": "python",
   "pygments_lexer": "ipython3",
   "version": "3.11.7"
  }
 },
 "nbformat": 4,
 "nbformat_minor": 5
}
