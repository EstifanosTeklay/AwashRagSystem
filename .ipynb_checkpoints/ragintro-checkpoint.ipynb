{
 "cells": [
  {
   "cell_type": "code",
   "execution_count": 1,
   "id": "84890fd7-f922-4149-9918-437cd9df2c6c",
   "metadata": {},
   "outputs": [
    {
     "name": "stdout",
     "output_type": "stream",
     "text": [
      "C:\\Users\\EstifanosT\\AwashRagSystem\n"
     ]
    }
   ],
   "source": [
    "import os\n",
    "h=os.getcwd()\n",
    "print(h)"
   ]
  },
  {
   "cell_type": "code",
   "execution_count": 2,
   "id": "d324c943-1abd-46e2-9e78-f0cd98eff41a",
   "metadata": {},
   "outputs": [],
   "source": [
    "import minsearch"
   ]
  },
  {
   "cell_type": "code",
   "execution_count": 3,
   "id": "dd052679-4bd8-4d01-94ea-d9c5f62175bf",
   "metadata": {},
   "outputs": [],
   "source": [
    "import json"
   ]
  },
  {
   "cell_type": "code",
   "execution_count": 4,
   "id": "e48d96c3-c973-4853-9dc4-d5195bf97e0c",
   "metadata": {},
   "outputs": [],
   "source": [
    "with open('output.json','rt',encoding='utf-8') as f_in:\n",
    "    doc_raw = json.load(f_in)"
   ]
  },
  {
   "cell_type": "code",
   "execution_count": 5,
   "id": "ab6f43cd-1011-45f5-a974-2988806206d5",
   "metadata": {},
   "outputs": [],
   "source": [
    "# Initialize an empty list to hold the flattened documents\n",
    "documents = []\n",
    "\n",
    "# Iterate over each page dictionary in the 'pages' list\n",
    "for page_dict in doc_raw['pages']:\n",
    "    # Create a new dictionary to store the content and page number\n",
    "    doc = {\n",
    "        'page_number': page_dict['page_number'],\n",
    "        'content': page_dict['content']\n",
    "    }\n",
    "    # Append the dictionary to the 'documents' list\n",
    "    documents.append(doc)\n",
    "\n",
    "\n"
   ]
  },
  {
   "cell_type": "code",
   "execution_count": 6,
   "id": "de9456ec-b508-4a78-93cc-b7676c472d2f",
   "metadata": {},
   "outputs": [
    {
     "data": {
      "text/plain": [
       "{'page_number': 1,\n",
       " 'content': 'CA FERS 1dd& &@ ATH\\nNATIONAL BANK OF ETHIOPIA\\nADDIS ABABA\\n\\nLICENSING AND AUTHORIZATION OF PAYMENT INSTRUMENT\\nISSUER AND PAYMENT SYSTEM OPERATOR\\n\\nManner of Equity Investment by Foreign Nationals of Ethiopian Origin\\nand Organizations in Payment Instrument Issuance & Payment System\\n\\nOperator Directive No.ONPS/04/2021\\n\\nWhereas, Foreign Nationals of Ethiopian Origin or Organizations have been allowed to invest in\\n\\nthe payment instrument issuance and payment system operator businesses in Ethiopia;\\n\\nWhereas, there is a need to put in place implementation modality for investment by Foreign\\nNationals of Ethiopian Origin or Organizations in payment instrument issuance and payment\\n\\noperator businesses in Ethiopia;\\n\\nNow, therefore, in accordance with article 4/2a and article 37/2 of National Payment System\\nProclamation No.718/2011 and articles 9 (1&2) and 58 of Banking Business (as amended)\\nProclamation no.1159/2019 and articles 20 (2) and 27 (2) of the National Bank of Ethiopia\\n\\nEstablishment (as Amended) Proclamation No. 591/2008, the National Bank of Ethiopia has\\nissued this Directive,\\n\\n1. Short Title\\n\\nThis Directive may be cited as “Manner of Equity Investment by Foreign Nationals of\\nEthiopian Origin or Organizations in Payment Instrument Issuer or Payment System\\nOperator Business Directive No.ONPS/04/2021”.\\n2. Definitions\\nFor the purpose of this Directive, unless the context requires otherwise, the term:\\n\\nnee |\\n\\n—————EEEE—\\n\\nR F 10,\\nARST: (8 WAG 744k, 3550/2048 AN #PC 0115 51 45 88 AN eT 0115 51 ABSHN WD,\\n\\nADDRESS: SUDAN STRCET P.O.BOX $550/2048 FAX No, 0115514388 TEL. No, 0115517430 ADDIS ABABA\\nTELEGRAPHIC ADDRESS. NA TIONBANK :\\nCODES-USED PETERSON 3%& 4\" ED BENTLEY\\'S 2™ PHRASE 4.B.C, 6\" EDITIO\\nE-mail: nbe.excd@ ethionet.et Website. www. http:// www.nbe.gov.et\\n\\n'}"
      ]
     },
     "execution_count": 6,
     "metadata": {},
     "output_type": "execute_result"
    }
   ],
   "source": [
    "documents[0]"
   ]
  },
  {
   "cell_type": "code",
   "execution_count": 7,
   "id": "99068f10-f51c-4602-bf76-75c9dcbd0e26",
   "metadata": {},
   "outputs": [],
   "source": [
    "index=minsearch.Index(\n",
    "  text_fields=[\"content\"],\n",
    "  keyword_fields=[\"page_number\"]\n",
    ")"
   ]
  },
  {
   "cell_type": "code",
   "execution_count": 8,
   "id": "4bca6901-45f0-4d5b-8c6c-30a0bac80341",
   "metadata": {},
   "outputs": [
    {
     "data": {
      "text/plain": [
       "<minsearch.Index at 0x240e296a950>"
      ]
     },
     "execution_count": 8,
     "metadata": {},
     "output_type": "execute_result"
    }
   ],
   "source": [
    "index.fit(documents)"
   ]
  },
  {
   "cell_type": "code",
   "execution_count": 15,
   "id": "9c7c843c-ba63-47b4-b687-787c794ed436",
   "metadata": {},
   "outputs": [],
   "source": [
    "q=\"Could you please tell me more about share Transfers\""
   ]
  },
  {
   "cell_type": "code",
   "execution_count": 16,
   "id": "4b060582-ce63-47af-ac57-252bc99c20d4",
   "metadata": {},
   "outputs": [
    {
     "name": "stdout",
     "output_type": "stream",
     "text": [
      "Share transfers, also known as share assignments or share transmissions, are a common practice in the world of finance and investment. Here's a breakdown of what they are and how they work:\n",
      "\n",
      "**What is a share transfer?**\n",
      "\n",
      "A share transfer is the process of transferring ownership of shares in a company from one person or entity to another. This process involves the seller (the transferor) and the buyer (the transferee) signing a document, typically in the form of a share transfer form, which outlines the details of the transfer, including the number of shares being transferred, the date of the transfer, and the consideration (if any) being paid.\n",
      "\n",
      "**Types of share transfers:**\n",
      "\n",
      "There are several types of share transfers, including:\n",
      "\n",
      "1. **Share assignment**: A transfer of ownership of shares to another person, which does not involve the destruction of the original share certificate.\n",
      "2. **Share transmission**: A transfer of ownership of shares to a deceased person's legally entitled beneficiaries, such as their estate, heirs, or beneficiaries of their will.\n",
      "3. **Share splitting**: A transfer of shares from one owner to multiple owners, often as a result of a share buyback or a stock split.\n",
      "4. **Share consolidation**: A transfer of shares from multiple owners to a single owner, often as a result of a merger or acquisition.\n",
      "\n",
      "**Why do share transfers occur?**\n",
      "\n",
      "Share transfers occur for various reasons, including:\n",
      "\n",
      "1. **Inheritance**: Shares may be inherited from a deceased person, and the beneficiary may need to transfer ownership to their name.\n",
      "2. **Sale or purchase of shares**: Shareholders may sell or buy shares from other investors, leading to the transfer of ownership.\n",
      "3. **Business mergers and acquisitions**: The transfer of ownership of shares can occur as part of a larger corporate transaction, such as a merger or acquisition.\n",
      "4. **Divorce or separation**: Couples may need to transfer shares as part of a divorce or separation settlement.\n",
      "\n",
      "**How to transfer shares:**\n",
      "\n",
      "The process of transferring shares typically involves the following steps:\n",
      "\n",
      "1. **Identify the shares**: Determine which shares are being transferred and ensure the transferor has the authority to do so.\n",
      "2. **Choose a transfer method**: Decide whether to use a batch transfer, where multiple shares are transferred at once, or a single-share transfer.\n",
      "3. **Prepare the transfer form**: Complete a share transfer form, which outlines the details of the transfer.\n",
      "4. **Sign the transfer form**: The transferor and transferee must sign the transfer form.\n",
      "5. **Submit the transfer form**: Submit the completed transfer form to the relevant authorities, such as the company's transfer agent.\n",
      "6. **Update the register**: The company's share register is updated to reflect the change in ownership.\n",
      "\n",
      "**Considerations and rules:**\n",
      "\n",
      "Share transfers are subject to various rules and regulations, including:\n",
      "\n",
      "1. **Securities laws and regulations**: Compliance with securities laws and regulations, such as anti-money laundering and know-your-customer requirements.\n",
      "2. **Company rules and bylaws**: Compliance with the company's rules and bylaws, which may vary depending on the jurisdiction.\n",
      "3. **Tax implications**: The transfer of shares may have tax implications for the transferor and transferee, and careful consideration should be given to these implications.\n",
      "4. **Transferee verification**: The transferee's identity and ownership must be verified to ensure compliance with regulatory requirements.\n",
      "\n",
      "I hope this provides a comprehensive overview of share transfers!\n"
     ]
    }
   ],
   "source": [
    "import os\n",
    "\n",
    "from groq import Groq\n",
    "\n",
    "client = Groq(api_key=\"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\")\n",
    "\n",
    "\n",
    "\n",
    "response=chat_completion = client.chat.completions.create(\n",
    "    messages=[\n",
    "        {\n",
    "            \"role\": \"user\",\n",
    "            \"content\": q,\n",
    "        }\n",
    "    ],\n",
    "    model=\"llama3-8b-8192\",\n",
    ")\n",
    "\n",
    "print(chat_completion.choices[0].message.content)"
   ]
  },
  {
   "cell_type": "code",
   "execution_count": 17,
   "id": "0dc19c2b-5f5c-4b97-b430-56d6a73cc833",
   "metadata": {},
   "outputs": [],
   "source": [
    "def search(query):\n",
    "    results = index.search(\n",
    "    query=query,\n",
    "    num_results=5\n",
    "     )\n",
    "    return results"
   ]
  },
  {
   "cell_type": "code",
   "execution_count": 18,
   "id": "63983f5a-9966-4909-ab7d-fb3d928d7eca",
   "metadata": {},
   "outputs": [],
   "source": [
    "def build_prompt(query, search_results):\n",
    "    prompt_template = \"\"\"\n",
    "You're a course teaching assistant. Answer the QUESTION based on the CONTEXT from the NBE directive.\n",
    "Use only the facts from the CONTEXT when answering the QUESTION.\n",
    "\n",
    "QUESTION: {question}\n",
    "\n",
    "CONTEXT:\n",
    "{context}\n",
    "\"\"\".strip()\n",
    "\n",
    "    context = \"\"\n",
    "    for doc in search_results:\n",
    "        context += f\"page_number: {doc['page_number']}\\ncontent: {doc['content']}\\n\\n\"\n",
    "\n",
    "    prompt = prompt_template.format(question=query, context=context).strip()\n",
    "    return prompt\n"
   ]
  },
  {
   "cell_type": "code",
   "execution_count": 19,
   "id": "4cc67c5a-1604-4659-836d-a318d25ba61c",
   "metadata": {},
   "outputs": [],
   "source": [
    "def llm(prompt):\n",
    "\n",
    " response=chat_completion = client.chat.completions.create(\n",
    "    messages=[\n",
    "        {\n",
    "            \"role\": \"user\",\n",
    "            \"content\": prompt,\n",
    "        }\n",
    "    ],\n",
    "    model=\"llama3-8b-8192\",\n",
    ")\n",
    " return chat_completion.choices[0].message.content"
   ]
  },
  {
   "cell_type": "code",
   "execution_count": 20,
   "id": "b73a01c8-184e-4b38-aed6-60ec729df9b1",
   "metadata": {},
   "outputs": [],
   "source": [
    "query='Could you please tell me about share transfer?'\n",
    "def rag(query):\n",
    "    search_results=search(query)\n",
    "    prompt=build_prompt(query,search_results)\n",
    "    answer = llm(prompt)\n",
    "    return answer"
   ]
  },
  {
   "cell_type": "code",
   "execution_count": 25,
   "id": "2eb845a5-d8bc-4d28-9c23-44298d5b930f",
   "metadata": {},
   "outputs": [
    {
     "data": {
      "text/plain": [
       "'Based on the context provided, it is stated in sub-article 5.1 that \"Shares may be transferred from Ethiopian Nationals to Foreign Nationals of Ethiopian Origin or Organizations through sell in acceptable foreign currency transferred through banks at a share price not less than par value...\"\\n\\nThis implies that Foreign Nationals of Ethiopian Origin can acquire shares in a Payment Instrument Issuer or Payment System Operator through a transfer from Ethiopian Nationals, as long as the share price is not less than par value and the payment is made in an acceptable foreign currency through a bank.\\n\\nIn addition, sub-article 4.3.1 states that \"Payment of the full value of initially subscribed shares and share premium (if any) by Foreign Nationals of Ethiopian Origin or Organizations shall be made in acceptable foreign currency.\" This further supports the idea that Foreign Nationals of Ethiopian Origin can acquire shares.\\n\\nTherefore, according to the context, yes, shares can be acquired by Foreign Nationals of Ethiopian Origin.'"
      ]
     },
     "execution_count": 25,
     "metadata": {},
     "output_type": "execute_result"
    }
   ],
   "source": [
    "rag('Can shares be aquired by Foreign nationals of Ethiopian Origin?')"
   ]
  },
  {
   "cell_type": "code",
   "execution_count": 22,
   "id": "2c906262-a7bf-4272-a23e-cce3cd66a410",
   "metadata": {},
   "outputs": [
    {
     "ename": "ConnectionError",
     "evalue": "Connection error caused by: ConnectionError(Connection error caused by: NewConnectionError(<urllib3.connection.HTTPConnection object at 0x00000240E5C4FD10>: Failed to establish a new connection: [WinError 10061] No connection could be made because the target machine actively refused it))",
     "output_type": "error",
     "traceback": [
      "\u001b[1;31m---------------------------------------------------------------------------\u001b[0m",
      "\u001b[1;31mConnectionError\u001b[0m                           Traceback (most recent call last)",
      "Cell \u001b[1;32mIn[22], line 6\u001b[0m\n\u001b[0;32m      3\u001b[0m \u001b[38;5;66;03m# Provide the host(s) where Elasticsearch is running\u001b[39;00m\n\u001b[0;32m      4\u001b[0m es \u001b[38;5;241m=\u001b[39m Elasticsearch(hosts\u001b[38;5;241m=\u001b[39m[\u001b[38;5;124m\"\u001b[39m\u001b[38;5;124mhttp://localhost:9200\u001b[39m\u001b[38;5;124m\"\u001b[39m])\n\u001b[1;32m----> 6\u001b[0m \u001b[38;5;28mprint\u001b[39m(es\u001b[38;5;241m.\u001b[39minfo())\n",
      "File \u001b[1;32m~\\AppData\\Roaming\\Python\\Python311\\site-packages\\elasticsearch\\_sync\\client\\utils.py:446\u001b[0m, in \u001b[0;36m_rewrite_parameters.<locals>.wrapper.<locals>.wrapped\u001b[1;34m(*args, **kwargs)\u001b[0m\n\u001b[0;32m    443\u001b[0m         \u001b[38;5;28;01mexcept\u001b[39;00m \u001b[38;5;167;01mKeyError\u001b[39;00m:\n\u001b[0;32m    444\u001b[0m             \u001b[38;5;28;01mpass\u001b[39;00m\n\u001b[1;32m--> 446\u001b[0m \u001b[38;5;28;01mreturn\u001b[39;00m api(\u001b[38;5;241m*\u001b[39margs, \u001b[38;5;241m*\u001b[39m\u001b[38;5;241m*\u001b[39mkwargs)\n",
      "File \u001b[1;32m~\\AppData\\Roaming\\Python\\Python311\\site-packages\\elasticsearch\\_sync\\client\\__init__.py:2460\u001b[0m, in \u001b[0;36mElasticsearch.info\u001b[1;34m(self, error_trace, filter_path, human, pretty)\u001b[0m\n\u001b[0;32m   2458\u001b[0m     __query[\u001b[38;5;124m\"\u001b[39m\u001b[38;5;124mpretty\u001b[39m\u001b[38;5;124m\"\u001b[39m] \u001b[38;5;241m=\u001b[39m pretty\n\u001b[0;32m   2459\u001b[0m __headers \u001b[38;5;241m=\u001b[39m {\u001b[38;5;124m\"\u001b[39m\u001b[38;5;124maccept\u001b[39m\u001b[38;5;124m\"\u001b[39m: \u001b[38;5;124m\"\u001b[39m\u001b[38;5;124mapplication/json\u001b[39m\u001b[38;5;124m\"\u001b[39m}\n\u001b[1;32m-> 2460\u001b[0m \u001b[38;5;28;01mreturn\u001b[39;00m \u001b[38;5;28mself\u001b[39m\u001b[38;5;241m.\u001b[39mperform_request(  \u001b[38;5;66;03m# type: ignore[return-value]\u001b[39;00m\n\u001b[0;32m   2461\u001b[0m     \u001b[38;5;124m\"\u001b[39m\u001b[38;5;124mGET\u001b[39m\u001b[38;5;124m\"\u001b[39m,\n\u001b[0;32m   2462\u001b[0m     __path,\n\u001b[0;32m   2463\u001b[0m     params\u001b[38;5;241m=\u001b[39m__query,\n\u001b[0;32m   2464\u001b[0m     headers\u001b[38;5;241m=\u001b[39m__headers,\n\u001b[0;32m   2465\u001b[0m     endpoint_id\u001b[38;5;241m=\u001b[39m\u001b[38;5;124m\"\u001b[39m\u001b[38;5;124minfo\u001b[39m\u001b[38;5;124m\"\u001b[39m,\n\u001b[0;32m   2466\u001b[0m     path_parts\u001b[38;5;241m=\u001b[39m__path_parts,\n\u001b[0;32m   2467\u001b[0m )\n",
      "File \u001b[1;32m~\\AppData\\Roaming\\Python\\Python311\\site-packages\\elasticsearch\\_sync\\client\\_base.py:271\u001b[0m, in \u001b[0;36mBaseClient.perform_request\u001b[1;34m(self, method, path, params, headers, body, endpoint_id, path_parts)\u001b[0m\n\u001b[0;32m    255\u001b[0m \u001b[38;5;28;01mdef\u001b[39;00m \u001b[38;5;21mperform_request\u001b[39m(\n\u001b[0;32m    256\u001b[0m     \u001b[38;5;28mself\u001b[39m,\n\u001b[0;32m    257\u001b[0m     method: \u001b[38;5;28mstr\u001b[39m,\n\u001b[1;32m   (...)\u001b[0m\n\u001b[0;32m    264\u001b[0m     path_parts: Optional[Mapping[\u001b[38;5;28mstr\u001b[39m, Any]] \u001b[38;5;241m=\u001b[39m \u001b[38;5;28;01mNone\u001b[39;00m,\n\u001b[0;32m    265\u001b[0m ) \u001b[38;5;241m-\u001b[39m\u001b[38;5;241m>\u001b[39m ApiResponse[Any]:\n\u001b[0;32m    266\u001b[0m     \u001b[38;5;28;01mwith\u001b[39;00m \u001b[38;5;28mself\u001b[39m\u001b[38;5;241m.\u001b[39m_otel\u001b[38;5;241m.\u001b[39mspan(\n\u001b[0;32m    267\u001b[0m         method,\n\u001b[0;32m    268\u001b[0m         endpoint_id\u001b[38;5;241m=\u001b[39mendpoint_id,\n\u001b[0;32m    269\u001b[0m         path_parts\u001b[38;5;241m=\u001b[39mpath_parts \u001b[38;5;129;01mor\u001b[39;00m {},\n\u001b[0;32m    270\u001b[0m     ) \u001b[38;5;28;01mas\u001b[39;00m otel_span:\n\u001b[1;32m--> 271\u001b[0m         response \u001b[38;5;241m=\u001b[39m \u001b[38;5;28mself\u001b[39m\u001b[38;5;241m.\u001b[39m_perform_request(\n\u001b[0;32m    272\u001b[0m             method,\n\u001b[0;32m    273\u001b[0m             path,\n\u001b[0;32m    274\u001b[0m             params\u001b[38;5;241m=\u001b[39mparams,\n\u001b[0;32m    275\u001b[0m             headers\u001b[38;5;241m=\u001b[39mheaders,\n\u001b[0;32m    276\u001b[0m             body\u001b[38;5;241m=\u001b[39mbody,\n\u001b[0;32m    277\u001b[0m             otel_span\u001b[38;5;241m=\u001b[39motel_span,\n\u001b[0;32m    278\u001b[0m         )\n\u001b[0;32m    279\u001b[0m         otel_span\u001b[38;5;241m.\u001b[39mset_elastic_cloud_metadata(response\u001b[38;5;241m.\u001b[39mmeta\u001b[38;5;241m.\u001b[39mheaders)\n\u001b[0;32m    280\u001b[0m         \u001b[38;5;28;01mreturn\u001b[39;00m response\n",
      "File \u001b[1;32m~\\AppData\\Roaming\\Python\\Python311\\site-packages\\elasticsearch\\_sync\\client\\_base.py:316\u001b[0m, in \u001b[0;36mBaseClient._perform_request\u001b[1;34m(self, method, path, params, headers, body, otel_span)\u001b[0m\n\u001b[0;32m    313\u001b[0m \u001b[38;5;28;01melse\u001b[39;00m:\n\u001b[0;32m    314\u001b[0m     target \u001b[38;5;241m=\u001b[39m path\n\u001b[1;32m--> 316\u001b[0m meta, resp_body \u001b[38;5;241m=\u001b[39m \u001b[38;5;28mself\u001b[39m\u001b[38;5;241m.\u001b[39mtransport\u001b[38;5;241m.\u001b[39mperform_request(\n\u001b[0;32m    317\u001b[0m     method,\n\u001b[0;32m    318\u001b[0m     target,\n\u001b[0;32m    319\u001b[0m     headers\u001b[38;5;241m=\u001b[39mrequest_headers,\n\u001b[0;32m    320\u001b[0m     body\u001b[38;5;241m=\u001b[39mbody,\n\u001b[0;32m    321\u001b[0m     request_timeout\u001b[38;5;241m=\u001b[39m\u001b[38;5;28mself\u001b[39m\u001b[38;5;241m.\u001b[39m_request_timeout,\n\u001b[0;32m    322\u001b[0m     max_retries\u001b[38;5;241m=\u001b[39m\u001b[38;5;28mself\u001b[39m\u001b[38;5;241m.\u001b[39m_max_retries,\n\u001b[0;32m    323\u001b[0m     retry_on_status\u001b[38;5;241m=\u001b[39m\u001b[38;5;28mself\u001b[39m\u001b[38;5;241m.\u001b[39m_retry_on_status,\n\u001b[0;32m    324\u001b[0m     retry_on_timeout\u001b[38;5;241m=\u001b[39m\u001b[38;5;28mself\u001b[39m\u001b[38;5;241m.\u001b[39m_retry_on_timeout,\n\u001b[0;32m    325\u001b[0m     client_meta\u001b[38;5;241m=\u001b[39m\u001b[38;5;28mself\u001b[39m\u001b[38;5;241m.\u001b[39m_client_meta,\n\u001b[0;32m    326\u001b[0m     otel_span\u001b[38;5;241m=\u001b[39motel_span,\n\u001b[0;32m    327\u001b[0m )\n\u001b[0;32m    329\u001b[0m \u001b[38;5;66;03m# HEAD with a 404 is returned as a normal response\u001b[39;00m\n\u001b[0;32m    330\u001b[0m \u001b[38;5;66;03m# since this is used as an 'exists' functionality.\u001b[39;00m\n\u001b[0;32m    331\u001b[0m \u001b[38;5;28;01mif\u001b[39;00m \u001b[38;5;129;01mnot\u001b[39;00m (method \u001b[38;5;241m==\u001b[39m \u001b[38;5;124m\"\u001b[39m\u001b[38;5;124mHEAD\u001b[39m\u001b[38;5;124m\"\u001b[39m \u001b[38;5;129;01mand\u001b[39;00m meta\u001b[38;5;241m.\u001b[39mstatus \u001b[38;5;241m==\u001b[39m \u001b[38;5;241m404\u001b[39m) \u001b[38;5;129;01mand\u001b[39;00m (\n\u001b[0;32m    332\u001b[0m     \u001b[38;5;129;01mnot\u001b[39;00m \u001b[38;5;241m200\u001b[39m \u001b[38;5;241m<\u001b[39m\u001b[38;5;241m=\u001b[39m meta\u001b[38;5;241m.\u001b[39mstatus \u001b[38;5;241m<\u001b[39m \u001b[38;5;241m299\u001b[39m\n\u001b[0;32m    333\u001b[0m     \u001b[38;5;129;01mand\u001b[39;00m (\n\u001b[1;32m   (...)\u001b[0m\n\u001b[0;32m    337\u001b[0m     )\n\u001b[0;32m    338\u001b[0m ):\n",
      "File \u001b[1;32m~\\AppData\\Roaming\\Python\\Python311\\site-packages\\elastic_transport\\_transport.py:342\u001b[0m, in \u001b[0;36mTransport.perform_request\u001b[1;34m(self, method, target, body, headers, max_retries, retry_on_status, retry_on_timeout, request_timeout, client_meta, otel_span)\u001b[0m\n\u001b[0;32m    340\u001b[0m \u001b[38;5;28;01mtry\u001b[39;00m:\n\u001b[0;32m    341\u001b[0m     otel_span\u001b[38;5;241m.\u001b[39mset_node_metadata(node\u001b[38;5;241m.\u001b[39mhost, node\u001b[38;5;241m.\u001b[39mport, node\u001b[38;5;241m.\u001b[39mbase_url, target)\n\u001b[1;32m--> 342\u001b[0m     resp \u001b[38;5;241m=\u001b[39m node\u001b[38;5;241m.\u001b[39mperform_request(\n\u001b[0;32m    343\u001b[0m         method,\n\u001b[0;32m    344\u001b[0m         target,\n\u001b[0;32m    345\u001b[0m         body\u001b[38;5;241m=\u001b[39mrequest_body,\n\u001b[0;32m    346\u001b[0m         headers\u001b[38;5;241m=\u001b[39mrequest_headers,\n\u001b[0;32m    347\u001b[0m         request_timeout\u001b[38;5;241m=\u001b[39mrequest_timeout,\n\u001b[0;32m    348\u001b[0m     )\n\u001b[0;32m    349\u001b[0m     _logger\u001b[38;5;241m.\u001b[39minfo(\n\u001b[0;32m    350\u001b[0m         \u001b[38;5;124m\"\u001b[39m\u001b[38;5;132;01m%s\u001b[39;00m\u001b[38;5;124m \u001b[39m\u001b[38;5;132;01m%s\u001b[39;00m\u001b[38;5;132;01m%s\u001b[39;00m\u001b[38;5;124m [status:\u001b[39m\u001b[38;5;132;01m%s\u001b[39;00m\u001b[38;5;124m duration:\u001b[39m\u001b[38;5;132;01m%.3f\u001b[39;00m\u001b[38;5;124ms]\u001b[39m\u001b[38;5;124m\"\u001b[39m\n\u001b[0;32m    351\u001b[0m         \u001b[38;5;241m%\u001b[39m (\n\u001b[1;32m   (...)\u001b[0m\n\u001b[0;32m    357\u001b[0m         )\n\u001b[0;32m    358\u001b[0m     )\n\u001b[0;32m    360\u001b[0m     \u001b[38;5;28;01mif\u001b[39;00m method \u001b[38;5;241m!=\u001b[39m \u001b[38;5;124m\"\u001b[39m\u001b[38;5;124mHEAD\u001b[39m\u001b[38;5;124m\"\u001b[39m:\n",
      "File \u001b[1;32m~\\AppData\\Roaming\\Python\\Python311\\site-packages\\elastic_transport\\_node\\_http_urllib3.py:202\u001b[0m, in \u001b[0;36mUrllib3HttpNode.perform_request\u001b[1;34m(self, method, target, body, headers, request_timeout)\u001b[0m\n\u001b[0;32m    194\u001b[0m         err \u001b[38;5;241m=\u001b[39m \u001b[38;5;167;01mConnectionError\u001b[39;00m(\u001b[38;5;28mstr\u001b[39m(e), errors\u001b[38;5;241m=\u001b[39m(e,))\n\u001b[0;32m    195\u001b[0m     \u001b[38;5;28mself\u001b[39m\u001b[38;5;241m.\u001b[39m_log_request(\n\u001b[0;32m    196\u001b[0m         method\u001b[38;5;241m=\u001b[39mmethod,\n\u001b[0;32m    197\u001b[0m         target\u001b[38;5;241m=\u001b[39mtarget,\n\u001b[1;32m   (...)\u001b[0m\n\u001b[0;32m    200\u001b[0m         exception\u001b[38;5;241m=\u001b[39merr,\n\u001b[0;32m    201\u001b[0m     )\n\u001b[1;32m--> 202\u001b[0m     \u001b[38;5;28;01mraise\u001b[39;00m err \u001b[38;5;28;01mfrom\u001b[39;00m \u001b[38;5;28;01mNone\u001b[39;00m\n\u001b[0;32m    204\u001b[0m meta \u001b[38;5;241m=\u001b[39m ApiResponseMeta(\n\u001b[0;32m    205\u001b[0m     node\u001b[38;5;241m=\u001b[39m\u001b[38;5;28mself\u001b[39m\u001b[38;5;241m.\u001b[39mconfig,\n\u001b[0;32m    206\u001b[0m     duration\u001b[38;5;241m=\u001b[39mduration,\n\u001b[1;32m   (...)\u001b[0m\n\u001b[0;32m    209\u001b[0m     headers\u001b[38;5;241m=\u001b[39mresponse_headers,\n\u001b[0;32m    210\u001b[0m )\n\u001b[0;32m    211\u001b[0m \u001b[38;5;28mself\u001b[39m\u001b[38;5;241m.\u001b[39m_log_request(\n\u001b[0;32m    212\u001b[0m     method\u001b[38;5;241m=\u001b[39mmethod,\n\u001b[0;32m    213\u001b[0m     target\u001b[38;5;241m=\u001b[39mtarget,\n\u001b[1;32m   (...)\u001b[0m\n\u001b[0;32m    217\u001b[0m     response\u001b[38;5;241m=\u001b[39mdata,\n\u001b[0;32m    218\u001b[0m )\n",
      "\u001b[1;31mConnectionError\u001b[0m: Connection error caused by: ConnectionError(Connection error caused by: NewConnectionError(<urllib3.connection.HTTPConnection object at 0x00000240E5C4FD10>: Failed to establish a new connection: [WinError 10061] No connection could be made because the target machine actively refused it))"
     ]
    }
   ],
   "source": [
    "from elasticsearch import Elasticsearch\n",
    "\n",
    "# Provide the host(s) where Elasticsearch is running\n",
    "es = Elasticsearch(hosts=[\"http://localhost:9200\"])\n",
    "\n",
    "print(es.info())"
   ]
  },
  {
   "cell_type": "code",
   "execution_count": null,
   "id": "4263bbfb-ab37-455d-a970-70a2b0eca12f",
   "metadata": {},
   "outputs": [],
   "source": [
    "from elasticsearch import Elasticsearch\n",
    "\n",
    "# Initialize the Elasticsearch client with the default host\n",
    "es = Elasticsearch(hosts=[\"http://localhost:9200\"])\n",
    "\n",
    "# Define the index settings\n",
    "index_settings = {\n",
    "    \"settings\": {\n",
    "        \"number_of_shards\": 1,\n",
    "        \"number_of_replicas\": 0\n",
    "    },\n",
    "    \"mappings\": {\n",
    "        \"properties\": {\n",
    "            \"page_number\": {\"type\": \"integer\"},\n",
    "            \"content\": {\"type\": \"text\"}\n",
    "        }\n",
    "    }\n",
    "}\n",
    "\n",
    "# Define the index name\n",
    "index_name = \"questions_about_directives\"\n",
    "\n",
    "# Create the index\n",
    "response = es.indices.create(index=index_name, body=index_settings)\n",
    "\n",
    "print(response)\n",
    "\n"
   ]
  },
  {
   "cell_type": "code",
   "execution_count": null,
   "id": "5cb8d584-f99d-496b-b3e4-490951d0c6c2",
   "metadata": {},
   "outputs": [],
   "source": [
    "from tqdm.auto import tqdm"
   ]
  },
  {
   "cell_type": "code",
   "execution_count": null,
   "id": "9123a66a-359b-4722-b74f-f72585383e6c",
   "metadata": {},
   "outputs": [],
   "source": [
    "for doc in tqdm(documents):\n",
    "    es.index(index=index_name,document=doc)"
   ]
  },
  {
   "cell_type": "code",
   "execution_count": 24,
   "id": "cbdb58c0-4058-445b-8b62-5f884c94ad74",
   "metadata": {},
   "outputs": [],
   "source": [
    "query='Can shares be aquired by Foreign nationals of Ethiopian Origin?'"
   ]
  },
  {
   "cell_type": "code",
   "execution_count": null,
   "id": "85168374-592f-4beb-883d-734d3ae359c0",
   "metadata": {},
   "outputs": [],
   "source": [
    "search_query = {\n",
    "    \"size\": 5,\n",
    "    \"query\": {\n",
    "        \"bool\": {\n",
    "            \"must\": {\n",
    "                \"multi_match\": {\n",
    "                    \"query\": query,\n",
    "                    \"fields\": [\"content^3\", \"page_number\"],\n",
    "                    \"type\": \"best_fields\"\n",
    "                }\n",
    "            },\n",
    "            \"filter\": {\n",
    "                \"term\": {\n",
    "                    \"content\": \"National Bank directive\"\n",
    "                }\n",
    "            }\n",
    "        }\n",
    "    }\n",
    "}"
   ]
  },
  {
   "cell_type": "code",
   "execution_count": null,
   "id": "fecb96a9-9916-484c-8657-0f0fdb6023ba",
   "metadata": {},
   "outputs": [],
   "source": []
  }
 ],
 "metadata": {
  "kernelspec": {
   "display_name": "Python 3 (ipykernel)",
   "language": "python",
   "name": "python3"
  },
  "language_info": {
   "codemirror_mode": {
    "name": "ipython",
    "version": 3
   },
   "file_extension": ".py",
   "mimetype": "text/x-python",
   "name": "python",
   "nbconvert_exporter": "python",
   "pygments_lexer": "ipython3",
   "version": "3.11.7"
  }
 },
 "nbformat": 4,
 "nbformat_minor": 5
}
